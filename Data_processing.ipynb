{
  "nbformat": 4,
  "nbformat_minor": 0,
  "metadata": {
    "colab": {
      "provenance": [],
      "authorship_tag": "ABX9TyMxC1e60PxCVxlaYpmb3dNf",
      "include_colab_link": true
    },
    "kernelspec": {
      "name": "python3",
      "display_name": "Python 3"
    },
    "language_info": {
      "name": "python"
    }
  },
  "cells": [
    {
      "cell_type": "markdown",
      "metadata": {
        "id": "view-in-github",
        "colab_type": "text"
      },
      "source": [
        "<a href=\"https://colab.research.google.com/github/yoonhyun123/practice/blob/main/Data_processing.ipynb\" target=\"_parent\"><img src=\"https://colab.research.google.com/assets/colab-badge.svg\" alt=\"Open In Colab\"/></a>"
      ]
    },
    {
      "cell_type": "code",
      "execution_count": 12,
      "metadata": {
        "colab": {
          "base_uri": "https://localhost:8080/"
        },
        "id": "bFHfa5uhiAXy",
        "outputId": "6860ad45-4eea-45c8-f337-ebde110234a3"
      },
      "outputs": [
        {
          "output_type": "stream",
          "name": "stdout",
          "text": [
            "<class 'pandas.core.series.Series'>\n"
          ]
        }
      ],
      "source": [
        "import pandas as pd\n",
        "\n",
        "chocolate_ratings=[3.75,2.75,3.50,4.00]\n",
        "rating_series=pd.Series(chocolate_ratings)\n",
        "rating_series\n",
        "print(type(rating_series))"
      ]
    },
    {
      "cell_type": "code",
      "source": [
        "import pandas as pd\n",
        "\n",
        "chocolate_ratings=[3.75,2.75,3.50,4.00]\n",
        "\n",
        "rating_df=pd.DataFrame(chocolate_ratings,columns=['Rating'])\n",
        "rating_df\n",
        "print(rating_df.columns)\n",
        "\n",
        "rating_df.rename(columns={'Rating':'Chocolate Rating'},inplace=True)\n",
        "print(\"\\n변경 프레임\")\n",
        "print(rating_df)"
      ],
      "metadata": {
        "id": "HrzwrZwOcv7G",
        "colab": {
          "base_uri": "https://localhost:8080/"
        },
        "outputId": "0b0db16d-f420-4710-db37-90d9a8a46993"
      },
      "execution_count": 16,
      "outputs": [
        {
          "output_type": "stream",
          "name": "stdout",
          "text": [
            "Index(['Rating'], dtype='object')\n",
            "\n",
            "변경 프레임\n",
            "   Chocolate Rating\n",
            "0              3.75\n",
            "1              2.75\n",
            "2              3.50\n",
            "3              4.00\n"
          ]
        }
      ]
    },
    {
      "cell_type": "code",
      "source": [
        "# 1. 판다스 패키지 불러오기\n",
        "import pandas as pd\n",
        "\n",
        "# 2. 1차원 리스트 생성\n",
        "# 예: 초콜릿 등급 데이터 (Rating) 일부 값\n",
        "chocolate_ratings = [3.75, 2.75, 3.00, 3.50, 4.00]\n",
        "\n",
        "# 3. 리스트를 데이터프레임으로 변환\n",
        "ratings_df = pd.DataFrame(chocolate_ratings, columns=['Rating'])\n",
        "\n",
        "# 4. 데이터프레임의 열 이름 확인\n",
        "print(\"=== 열 이름 확인 ===\")\n",
        "print(ratings_df.columns)\n",
        "\n",
        "# 5. 데이터프레임의 열 이름 변경\n",
        "ratings_df.rename(columns={'Rating': 'Chocolate Rating'}, inplace=True)\n",
        "\n",
        "# 6. 변경된 데이터프레임 출력\n",
        "print(\"\\n=== 변경된 데이터프레임 ===\")\n",
        "print(ratings_df)\n"
      ],
      "metadata": {
        "colab": {
          "base_uri": "https://localhost:8080/"
        },
        "id": "Ka-wWawD7k1C",
        "outputId": "7b409bdc-9d9e-47d9-d7e5-72cc031f4783"
      },
      "execution_count": 17,
      "outputs": [
        {
          "output_type": "stream",
          "name": "stdout",
          "text": [
            "=== 열 이름 확인 ===\n",
            "Index(['Rating'], dtype='object')\n",
            "\n",
            "=== 변경된 데이터프레임 ===\n",
            "   Chocolate Rating\n",
            "0              3.75\n",
            "1              2.75\n",
            "2              3.00\n",
            "3              3.50\n",
            "4              4.00\n"
          ]
        }
      ]
    },
    {
      "cell_type": "code",
      "source": [
        "import pandas as pd\n",
        "\n",
        "file_path=\"/content/sample_data/chocolate_rating.csv\"\n",
        "\n",
        "chocolate_df=pd.read_csv(file_path,encoding='euc-kr')\n",
        "print(chocolate_df.head())\n",
        "\n",
        "chocolate_df.rename(columns={\"제조사\":\"Number\",\"년도\":\"year\",\"평점\":\"Grade\",\"원두\":\"Bean type\"},inplace=True)\n",
        "print(chocolate_df.head())\n",
        "print(chocolate_df)\n",
        "\n"
      ],
      "metadata": {
        "colab": {
          "base_uri": "https://localhost:8080/"
        },
        "id": "jprk2Gmq_xoP",
        "outputId": "a2f3ed85-c36d-4d1a-e6d2-17a93fa6ec41"
      },
      "execution_count": 42,
      "outputs": [
        {
          "output_type": "stream",
          "name": "stdout",
          "text": [
            "   제조사    년도  평점    원두\n",
            "0    1  2016 0.63 3.75\n",
            "1    2  2015 0.70 2.75\n",
            "2    3  2015 0.70 3.00\n",
            "3    4  2015 0.70 3.50\n",
            "4    5  2015 0.70 3.50\n",
            "   Number  year  평점   Bean type\n",
            "0       1  2016 0.63       3.75\n",
            "1       2  2015 0.70       2.75\n",
            "2       3  2015 0.70       3.00\n",
            "3       4  2015 0.70       3.50\n",
            "4       5  2015 0.70       3.50\n",
            "      Number  year  평점   Bean type\n",
            "0          1  2016 0.63       3.75\n",
            "1          2  2015 0.70       2.75\n",
            "2          3  2015 0.70       3.00\n",
            "3          4  2015 0.70       3.50\n",
            "4          5  2015 0.70       3.50\n",
            "...      ...   ...  ...        ...\n",
            "1790    1791  2011 0.70       3.75\n",
            "1791    1792  2011 0.65       3.00\n",
            "1792    1793  2011 0.65       3.50\n",
            "1793    1794  2011 0.62       3.25\n",
            "1794    1795  2010 0.65       3.00\n",
            "\n",
            "[1795 rows x 4 columns]\n"
          ]
        }
      ]
    },
    {
      "cell_type": "code",
      "source": [
        "import pandas as pd\n",
        "\n",
        "file_path=\"/content/sample_data/chocolate_rating.csv\"\n",
        "\n",
        "chocolate_df=pd.read_csv(file_path,encoding='euc-kr')\n",
        "print(chocolate_df.head(1))\n",
        "print(chocolate_df[\"제조사\"].dtypes)\n",
        "print(chocolate_df[\"년도\"].dtypes)\n",
        "print(chocolate_df[\"평점 \"].dtypes)\n",
        "print(chocolate_df[\"원두\"].dtypes)\n",
        "\n",
        "chocolate_df=chocolate_df.astype({\n",
        "    \"제조사\": int,\n",
        "    \"년도\":int,\n",
        "    \"평점 \":int,\n",
        "    \"원두\":int\n",
        "})\n",
        "\n",
        "print(chocolate_df)\n",
        "print(\"\\n 열의 데이터형:\")\n",
        "print(chocolate_df.dtypes)"
      ],
      "metadata": {
        "colab": {
          "base_uri": "https://localhost:8080/"
        },
        "id": "hj3w_2eeDg3G",
        "outputId": "b6465df3-85f9-4e38-ed7c-3b9a1be84112"
      },
      "execution_count": 97,
      "outputs": [
        {
          "output_type": "stream",
          "name": "stdout",
          "text": [
            "   제조사    년도  평점    원두\n",
            "0    1  2016 0.63 3.75\n",
            "int64\n",
            "int64\n",
            "float64\n",
            "float64\n",
            "       제조사    년도  평점   원두\n",
            "0        1  2016    0   3\n",
            "1        2  2015    0   2\n",
            "2        3  2015    0   3\n",
            "3        4  2015    0   3\n",
            "4        5  2015    0   3\n",
            "...    ...   ...  ...  ..\n",
            "1790  1791  2011    0   3\n",
            "1791  1792  2011    0   3\n",
            "1792  1793  2011    0   3\n",
            "1793  1794  2011    0   3\n",
            "1794  1795  2010    0   3\n",
            "\n",
            "[1795 rows x 4 columns]\n",
            "\n",
            " 열의 데이터형:\n",
            "제조사    int64\n",
            "년도     int64\n",
            "평점     int64\n",
            "원두     int64\n",
            "dtype: object\n"
          ]
        }
      ]
    },
    {
      "cell_type": "code",
      "source": [
        "# new_chocolate_df=chocolate_df.drop([1],axis=0)\n",
        "# print(new_chocolate_df)\n",
        "\n",
        "# chocolate_df[\"합\"]=chocolate_df[\"제조사\"]*chocolate_df[\"년도\"]\n",
        "# print(chocolate_df)\n",
        "# set_chocolate_df=chocolate_df.set_index(\"제조사\",append=False)\n",
        "# print(set_chocolate_df)\n",
        "# set_chocolate_df=chocolate_df.set_index(\"제조사\",append=True)\n",
        "\n",
        "# date_index=pd.date_range(start=\"2023-01-01\",periods=len(chocolate_df),freq=\"D\")\n",
        "# print(date_index)\n",
        "# print(df_date_index.index)\n",
        "print(df_date_index.values)\n",
        "print(\"값의 데이터형(type):\", type(df_date_index.values))"
      ],
      "metadata": {
        "colab": {
          "base_uri": "https://localhost:8080/"
        },
        "id": "z4c8YXNxLTC6",
        "outputId": "c1115f35-9496-4fa5-c41e-4cc5b288782e"
      },
      "execution_count": 117,
      "outputs": [
        {
          "output_type": "stream",
          "name": "stdout",
          "text": [
            "[[      1    2016       0       3    2016]\n",
            " [      2    2015       0       2    4030]\n",
            " [      3    2015       0       3    6045]\n",
            " ...\n",
            " [   1793    2011       0       3 3605723]\n",
            " [   1794    2011       0       3 3607734]\n",
            " [   1795    2010       0       3 3607950]]\n",
            "값의 데이터형(type): <class 'numpy.ndarray'>\n"
          ]
        }
      ]
    },
    {
      "cell_type": "code",
      "source": [],
      "metadata": {
        "id": "WF8oHUPtNi3h"
      },
      "execution_count": null,
      "outputs": []
    },
    {
      "cell_type": "code",
      "source": [
        "import pandas as pd\n",
        "\n",
        "# 데이터프레임 생성\n",
        "data = {\n",
        "    \"Product\": [\"A\", \"B\", \"C\", \"D\"],\n",
        "    \"Price\": [100, 200, 300, 400],\n",
        "    \"Quantity\": [1, 2, 3, 4]\n",
        "}\n",
        "df = pd.DataFrame(data)\n",
        "\n",
        "# 원본 데이터프레임 출력\n",
        "print(\"원본 데이터프레임:\")\n",
        "print(df)\n",
        "\n",
        "# 1. reset_index를 사용해 인덱스 초기화\n",
        "df_reset = df.reset_index(drop=False)  # 기존 인덱스를 열로 유지\n",
        "print(\"\\nreset_index(drop=False) 사용 후 데이터프레임:\")\n",
        "print(df_reset)\n",
        "\n",
        "df_reset_drop = df.reset_index(drop=True)  # 기존 인덱스를 삭제\n",
        "print(\"\\nreset_index(drop=True) 사용 후 데이터프레임:\")\n",
        "print(df_reset_drop)\n",
        "\n",
        "# 2. pd.date_range를 사용해 날짜 인덱스 생성\n",
        "date_index = pd.date_range(start=\"2023-01-01\", periods=len(df), freq=\"D\")\n",
        "df_date_index = df.copy()\n",
        "df_date_index.index = date_index\n",
        "print(\"\\n날짜 인덱스 설정 후 데이터프레임:\")\n",
        "print(df_date_index)\n",
        "\n",
        "# 3. index 속성을 사용해 현재 인덱스 추출\n",
        "print(\"\\n현재 인덱스 추출 (날짜 인덱스 적용 후):\")\n",
        "print(df_date_index.index)\n",
        "\n",
        "# 4. value 속성을 사용해 데이터프레임의 값 추출\n",
        "print(\"\\n데이터프레임의 값 추출:\")\n",
        "print(df_date_index.values)\n",
        "print(\"값의 데이터형(type):\", type(df_date_index.values))\n",
        "\n"
      ],
      "metadata": {
        "colab": {
          "base_uri": "https://localhost:8080/"
        },
        "id": "Sn6_h6K6NEtn",
        "outputId": "ce4cc761-0836-4d65-80a6-94df8fb3f5a0"
      },
      "execution_count": 104,
      "outputs": [
        {
          "output_type": "stream",
          "name": "stdout",
          "text": [
            "원본 데이터프레임:\n",
            "  Product  Price  Quantity\n",
            "0       A    100         1\n",
            "1       B    200         2\n",
            "2       C    300         3\n",
            "3       D    400         4\n",
            "\n",
            "reset_index(drop=False) 사용 후 데이터프레임:\n",
            "   index Product  Price  Quantity\n",
            "0      0       A    100         1\n",
            "1      1       B    200         2\n",
            "2      2       C    300         3\n",
            "3      3       D    400         4\n",
            "\n",
            "reset_index(drop=True) 사용 후 데이터프레임:\n",
            "  Product  Price  Quantity\n",
            "0       A    100         1\n",
            "1       B    200         2\n",
            "2       C    300         3\n",
            "3       D    400         4\n",
            "\n",
            "날짜 인덱스 설정 후 데이터프레임:\n",
            "           Product  Price  Quantity\n",
            "2023-01-01       A    100         1\n",
            "2023-01-02       B    200         2\n",
            "2023-01-03       C    300         3\n",
            "2023-01-04       D    400         4\n",
            "\n",
            "현재 인덱스 추출 (날짜 인덱스 적용 후):\n",
            "DatetimeIndex(['2023-01-01', '2023-01-02', '2023-01-03', '2023-01-04'], dtype='datetime64[ns]', freq='D')\n",
            "\n",
            "데이터프레임의 값 추출:\n",
            "[['A' 100 1]\n",
            " ['B' 200 2]\n",
            " ['C' 300 3]\n",
            " ['D' 400 4]]\n",
            "값의 데이터형(type): <class 'numpy.ndarray'>\n"
          ]
        }
      ]
    },
    {
      "cell_type": "code",
      "source": [
        "import pandas as pd\n",
        "import matplotlib.pyplot as plt\n",
        "\n",
        "# 데이터프레임 생성\n",
        "data = {\n",
        "    \"Product\": [\"A\", \"B\", \"C\", \"D\", \"E\"],\n",
        "    \"Price\": [100, 200, 300, 400, 500],\n",
        "    \"Quantity\": [5, 2, 8, 4, 6]\n",
        "}\n",
        "df = pd.DataFrame(data)\n",
        "\n",
        "plt.figure(figsize=(8,5))\n",
        "plt.bar(df[\"Product\"],df[\"Price\"],color=\"red\",alpha=0.5,label=\"Price\")\n",
        "plt.title(\"original\")\n",
        "plt.xlabel(\"product\")\n",
        "plt.ylabel(\"price\")\n",
        "plt.legend()\n",
        "plt.show()\n",
        "\n",
        "df[\"Average\"]=df[[\"Price\",\"Quantity\"]].mean(axis=1)\n",
        "\n",
        "plt.bar(df[\"Product\"],df[\"Average\"],color=\"green\",alpha=0.5,label=\"Average\")\n",
        "plt.title(\"Average\")\n",
        "plt.xlabel(\"product\")\n",
        "plt.ylabel(\"price\")\n",
        "plt.legend()\n",
        "plt.show()\n",
        "\n",
        "df_sorted=df.sort_values(by=\"Price\",ascending=True)\n",
        "\n",
        "plt.figure(figsize=(8,5))\n",
        "plt.plot(df_sorted[\"Product\"],df_sorted[\"Price\"],marker=\"o\",color=\"orange\",label=\"Price(Sorted)\")\n",
        "plt.title(\"Price(Sorted)\")\n",
        "plt.xlabel(\"product\")\n",
        "plt.ylabel(\"price\")\n",
        "plt.legend()\n",
        "plt.show()"
      ],
      "metadata": {
        "colab": {
          "base_uri": "https://localhost:8080/",
          "height": 1000
        },
        "id": "JOAgTGs2ZUO8",
        "outputId": "296781f4-cc56-4722-b1cb-a5c7e0be54e4"
      },
      "execution_count": 127,
      "outputs": [
        {
          "output_type": "display_data",
          "data": {
            "text/plain": [
              "<Figure size 800x500 with 1 Axes>"
            ],
            "image/png": "[encoded data removed]"
          },
          "metadata": {}
        },
        {
          "output_type": "display_data",
          "data": {
            "text/plain": [
              "<Figure size 640x480 with 1 Axes>"
            ],
            "image/png": "[encoded data removed]"
          },
          "metadata": {}
        },
        {
          "output_type": "display_data",
          "data": {
            "text/plain": [
              "<Figure size 800x500 with 1 Axes>"
            ],
            "image/png": "[encoded data removed]"
          },
          "metadata": {}
        }
      ]
    },
    {
      "cell_type": "code",
      "source": [
        "text = \"  Hello, Python!  \"\n",
        "print(text.strip())  # 양쪽 공백 제거\n",
        "print(text.lstrip())  # 왼쪽 공백 제거\n",
        "print(text.rstrip())  # 오른쪽 공백 제거\n"
      ],
      "metadata": {
        "colab": {
          "base_uri": "https://localhost:8080/"
        },
        "id": "o-0kcMbphD_g",
        "outputId": "8f346a24-ee33-48e4-e7fa-254261b77466"
      },
      "execution_count": 137,
      "outputs": [
        {
          "output_type": "stream",
          "name": "stdout",
          "text": [
            "Hello, Python!\n",
            "Hello, Python!  \n",
            "  Hello, Python!\n"
          ]
        }
      ]
    },
    {
      "cell_type": "code",
      "source": [
        "import pandas as pd\n",
        "\n",
        "# 데이터프레임 생성\n",
        "data = {\n",
        "    \"이름\": [\"Alice\", \"Bob\", \"Charlie\"],\n",
        "    \"나이\": [25, 30, 35],\n",
        "    \"직업\": [\"HR\", \"Engineer\", \"Artist\"]\n",
        "}\n",
        "df = pd.DataFrame(data)\n",
        "\n",
        "# 열 이름 변경\n",
        "df.rename(columns={\"이름\": \"Name\", \"나이\": \"Age\", \"직업\": \"Job\"}, inplace=True)\n",
        "print(\"열 이름 변경 후 데이터프레임:\")\n",
        "print(df)\n",
        "\n",
        "# 또 다른 방법 (columns 속성)\n",
        "df.columns = [\"Full Name\", \"Age\", \"Profession\"]\n",
        "print(\"\\ncolumns 속성으로 열 이름 변경 후 데이터프레임:\")\n",
        "print(df)"
      ],
      "metadata": {
        "colab": {
          "base_uri": "https://localhost:8080/"
        },
        "id": "4-JiZERfhtrG",
        "outputId": "d68322f0-2b97-45b5-e869-35d3bb3c86e8"
      },
      "execution_count": 138,
      "outputs": [
        {
          "output_type": "stream",
          "name": "stdout",
          "text": [
            "열 이름 변경 후 데이터프레임:\n",
            "      Name  Age       Job\n",
            "0    Alice   25        HR\n",
            "1      Bob   30  Engineer\n",
            "2  Charlie   35    Artist\n",
            "\n",
            "columns 속성으로 열 이름 변경 후 데이터프레임:\n",
            "  Full Name  Age Profession\n",
            "0     Alice   25         HR\n",
            "1       Bob   30   Engineer\n",
            "2   Charlie   35     Artist\n"
          ]
        }
      ]
    }
  ]
}